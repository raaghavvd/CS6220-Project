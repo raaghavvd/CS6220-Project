{
  "nbformat": 4,
  "nbformat_minor": 0,
  "metadata": {
    "colab": {
      "name": "NN Movie",
      "provenance": []
    },
    "kernelspec": {
      "name": "python3",
      "display_name": "Python 3"
    },
    "language_info": {
      "name": "python"
    },
    "accelerator": "GPU"
  },
  "cells": [
    {
      "cell_type": "code",
      "execution_count": 1,
      "metadata": {
        "colab": {
          "base_uri": "https://localhost:8080/"
        },
        "id": "ZRacazCPU6QW",
        "outputId": "d059c8e0-1840-4353-e26d-7f4ca504ef5f"
      },
      "outputs": [
        {
          "output_type": "execute_result",
          "data": {
            "text/plain": [
              "<torch._C.Generator at 0x7fb592be8ad0>"
            ]
          },
          "metadata": {},
          "execution_count": 1
        }
      ],
      "source": [
        "import json\n",
        "import numpy as np\n",
        "import pandas as pd\n",
        "import torch.nn as nn\n",
        "import torch.optim as optim\n",
        "import torch.utils.data\n",
        "from torch.autograd import Variable\n",
        "import torch\n",
        "from sklearn.model_selection import train_test_split\n",
        "from collections import Counter\n",
        "from sklearn.feature_extraction import DictVectorizer\n",
        "import matplotlib.pyplot as plt\n",
        "torch.manual_seed(4)"
      ]
    },
    {
      "cell_type": "code",
      "source": [
        "device = torch.device(\"cuda:0\" if torch.cuda.is_available() else \"cpu\")\n",
        "print(device)"
      ],
      "metadata": {
        "colab": {
          "base_uri": "https://localhost:8080/"
        },
        "id": "cMpfOl4IVDq_",
        "outputId": "1cc9125f-4eff-4607-d9c2-88efbdb02b68"
      },
      "execution_count": 2,
      "outputs": [
        {
          "output_type": "stream",
          "name": "stdout",
          "text": [
            "cuda:0\n"
          ]
        }
      ]
    },
    {
      "cell_type": "code",
      "source": [
        "!wget https://files.grouplens.org/datasets/movielens/ml-1m.zip\n",
        "!unzip ml-1m.zip"
      ],
      "metadata": {
        "id": "kFd5asOzVKQS",
        "colab": {
          "base_uri": "https://localhost:8080/"
        },
        "outputId": "1295ae88-b682-4d25-e5c4-e40b97b772dd"
      },
      "execution_count": 3,
      "outputs": [
        {
          "output_type": "stream",
          "name": "stdout",
          "text": [
            "--2021-12-13 04:45:53--  https://files.grouplens.org/datasets/movielens/ml-1m.zip\n",
            "Resolving files.grouplens.org (files.grouplens.org)... 128.101.65.152\n",
            "Connecting to files.grouplens.org (files.grouplens.org)|128.101.65.152|:443... connected.\n",
            "HTTP request sent, awaiting response... 200 OK\n",
            "Length: 5917549 (5.6M) [application/zip]\n",
            "Saving to: ‘ml-1m.zip’\n",
            "\n",
            "ml-1m.zip           100%[===================>]   5.64M  6.95MB/s    in 0.8s    \n",
            "\n",
            "2021-12-13 04:45:54 (6.95 MB/s) - ‘ml-1m.zip’ saved [5917549/5917549]\n",
            "\n",
            "Archive:  ml-1m.zip\n",
            "   creating: ml-1m/\n",
            "  inflating: ml-1m/movies.dat        \n",
            "  inflating: ml-1m/ratings.dat       \n",
            "  inflating: ml-1m/README            \n",
            "  inflating: ml-1m/users.dat         \n"
          ]
        }
      ]
    },
    {
      "cell_type": "code",
      "source": [
        "ratings_full = pd.read_csv('./ml-1m/ratings.dat', sep = '::', header = None, encoding = 'latin-1', names=['user_id', 'movie_id', 'rating', 'timestamp'])\n",
        "#imdb_data = pd.read_json('movieLens_1M_dump.txt')\n",
        "#imdb_data = imdb_data.T\n",
        "#imdb_data.reset_index(inplace=True)\n",
        "#imdb_data = imdb_data.rename(columns = {'index':'movie_id'})\n",
        "users = pd.read_csv('./ml-1m/users.dat', sep = '::', header = None, encoding = 'latin-1', names=['user_id', 'gender', 'age', 'occupation', 'zip_code'])\n",
        "users.gender[users.gender == 'M'] = 1\n",
        "users.gender[users.gender == 'F'] = 0\n",
        "movies = pd.read_csv('./ml-1m/movies.dat', sep = '::', header = None, encoding = 'latin-1', names=['movie_id', 'movie', 'genre'])\n",
        "ratings = ratings_full.merge(users, how='inner', on='user_id')\n",
        "ratings = ratings.merge(movies, how='inner', on='movie_id')"
      ],
      "metadata": {
        "colab": {
          "base_uri": "https://localhost:8080/"
        },
        "id": "GgIml8_cVO4h",
        "outputId": "2826ab09-8196-4e36-bef0-4ba2a57b695a"
      },
      "execution_count": 4,
      "outputs": [
        {
          "output_type": "stream",
          "name": "stderr",
          "text": [
            "/usr/local/lib/python3.7/dist-packages/ipykernel_launcher.py:1: ParserWarning: Falling back to the 'python' engine because the 'c' engine does not support regex separators (separators > 1 char and different from '\\s+' are interpreted as regex); you can avoid this warning by specifying engine='python'.\n",
            "  \"\"\"Entry point for launching an IPython kernel.\n",
            "/usr/local/lib/python3.7/dist-packages/ipykernel_launcher.py:6: ParserWarning: Falling back to the 'python' engine because the 'c' engine does not support regex separators (separators > 1 char and different from '\\s+' are interpreted as regex); you can avoid this warning by specifying engine='python'.\n",
            "  \n",
            "/usr/local/lib/python3.7/dist-packages/ipykernel_launcher.py:7: SettingWithCopyWarning: \n",
            "A value is trying to be set on a copy of a slice from a DataFrame\n",
            "\n",
            "See the caveats in the documentation: https://pandas.pydata.org/pandas-docs/stable/user_guide/indexing.html#returning-a-view-versus-a-copy\n",
            "  import sys\n",
            "/usr/local/lib/python3.7/dist-packages/ipykernel_launcher.py:8: SettingWithCopyWarning: \n",
            "A value is trying to be set on a copy of a slice from a DataFrame\n",
            "\n",
            "See the caveats in the documentation: https://pandas.pydata.org/pandas-docs/stable/user_guide/indexing.html#returning-a-view-versus-a-copy\n",
            "  \n",
            "/usr/local/lib/python3.7/dist-packages/ipykernel_launcher.py:9: ParserWarning: Falling back to the 'python' engine because the 'c' engine does not support regex separators (separators > 1 char and different from '\\s+' are interpreted as regex); you can avoid this warning by specifying engine='python'.\n",
            "  if __name__ == '__main__':\n"
          ]
        }
      ]
    },
    {
      "cell_type": "code",
      "source": [
        "user_genre_mapping = ratings.groupby(['user_id'])['genre'].apply(lambda x: '|'.join(x))\n",
        "def get_genre_counts(genres):\n",
        "  counts = Counter()\n",
        "  for genre in genres.split('|'):\n",
        "    counts[genre] += 1\n",
        "  return counts\n",
        "vectorizer = DictVectorizer()\n",
        "X = vectorizer.fit_transform(user_genre_mapping.apply(lambda x: get_genre_counts(x)).values)"
      ],
      "metadata": {
        "id": "NhF3ooDiz22J"
      },
      "execution_count": 5,
      "outputs": []
    },
    {
      "cell_type": "code",
      "source": [
        "user_genre_vector = pd.DataFrame({user:genre_vector for user, genre_vector in zip(user_genre_mapping.index, X.toarray())}).T\n",
        "user_genre_vector.columns = vectorizer.get_feature_names_out()\n",
        "user_genre_vector = user_genre_vector.rename_axis('user_id').reset_index()"
      ],
      "metadata": {
        "id": "vYbKw4xd28pO"
      },
      "execution_count": 6,
      "outputs": []
    },
    {
      "cell_type": "code",
      "source": [
        "ratings = ratings.merge(user_genre_vector, how='inner', on='user_id')"
      ],
      "metadata": {
        "id": "-IaFOTnw7QHx"
      },
      "execution_count": 7,
      "outputs": []
    },
    {
      "cell_type": "code",
      "source": [
        "'Mapping userid and movieid to a consistent data space'\n",
        "user_mapping = {user:index for index, user in enumerate(ratings['user_id'].unique())}\n",
        "movie_mapping = {movie:index for index, movie in enumerate(ratings['movie_id'].unique())}"
      ],
      "metadata": {
        "id": "oGhAFLfFW7li"
      },
      "execution_count": 8,
      "outputs": []
    },
    {
      "cell_type": "code",
      "source": [
        "ratings['user_id_mapped'] = [user_mapping[user_id] for user_id in ratings['user_id']]\n",
        "ratings['movie_id_mapped'] = [movie_mapping[movie_id] for movie_id in ratings['movie_id']]"
      ],
      "metadata": {
        "id": "pwaCSGWiXLgm"
      },
      "execution_count": 9,
      "outputs": []
    },
    {
      "cell_type": "code",
      "source": [
        "ratings.head()"
      ],
      "metadata": {
        "colab": {
          "base_uri": "https://localhost:8080/",
          "height": 452
        },
        "id": "AUbJ2QkSXROo",
        "outputId": "b83d2215-cd7c-47c7-bd36-283bb4efc66c"
      },
      "execution_count": 10,
      "outputs": [
        {
          "output_type": "execute_result",
          "data": {
            "text/html": [
              "<div>\n",
              "<style scoped>\n",
              "    .dataframe tbody tr th:only-of-type {\n",
              "        vertical-align: middle;\n",
              "    }\n",
              "\n",
              "    .dataframe tbody tr th {\n",
              "        vertical-align: top;\n",
              "    }\n",
              "\n",
              "    .dataframe thead th {\n",
              "        text-align: right;\n",
              "    }\n",
              "</style>\n",
              "<table border=\"1\" class=\"dataframe\">\n",
              "  <thead>\n",
              "    <tr style=\"text-align: right;\">\n",
              "      <th></th>\n",
              "      <th>user_id</th>\n",
              "      <th>movie_id</th>\n",
              "      <th>rating</th>\n",
              "      <th>timestamp</th>\n",
              "      <th>gender</th>\n",
              "      <th>age</th>\n",
              "      <th>occupation</th>\n",
              "      <th>zip_code</th>\n",
              "      <th>movie</th>\n",
              "      <th>genre</th>\n",
              "      <th>Action</th>\n",
              "      <th>Adventure</th>\n",
              "      <th>Animation</th>\n",
              "      <th>Children's</th>\n",
              "      <th>Comedy</th>\n",
              "      <th>Crime</th>\n",
              "      <th>Documentary</th>\n",
              "      <th>Drama</th>\n",
              "      <th>Fantasy</th>\n",
              "      <th>Film-Noir</th>\n",
              "      <th>Horror</th>\n",
              "      <th>Musical</th>\n",
              "      <th>Mystery</th>\n",
              "      <th>Romance</th>\n",
              "      <th>Sci-Fi</th>\n",
              "      <th>Thriller</th>\n",
              "      <th>War</th>\n",
              "      <th>Western</th>\n",
              "      <th>user_id_mapped</th>\n",
              "      <th>movie_id_mapped</th>\n",
              "    </tr>\n",
              "  </thead>\n",
              "  <tbody>\n",
              "    <tr>\n",
              "      <th>0</th>\n",
              "      <td>1</td>\n",
              "      <td>1193</td>\n",
              "      <td>5</td>\n",
              "      <td>978300760</td>\n",
              "      <td>0</td>\n",
              "      <td>1</td>\n",
              "      <td>10</td>\n",
              "      <td>48067</td>\n",
              "      <td>One Flew Over the Cuckoo's Nest (1975)</td>\n",
              "      <td>Drama</td>\n",
              "      <td>5.0</td>\n",
              "      <td>5.0</td>\n",
              "      <td>18.0</td>\n",
              "      <td>20.0</td>\n",
              "      <td>14.0</td>\n",
              "      <td>2.0</td>\n",
              "      <td>0.0</td>\n",
              "      <td>21.0</td>\n",
              "      <td>3.0</td>\n",
              "      <td>0.0</td>\n",
              "      <td>0.0</td>\n",
              "      <td>14.0</td>\n",
              "      <td>0.0</td>\n",
              "      <td>6.0</td>\n",
              "      <td>3.0</td>\n",
              "      <td>3.0</td>\n",
              "      <td>2.0</td>\n",
              "      <td>0.0</td>\n",
              "      <td>0</td>\n",
              "      <td>0</td>\n",
              "    </tr>\n",
              "    <tr>\n",
              "      <th>1</th>\n",
              "      <td>1</td>\n",
              "      <td>661</td>\n",
              "      <td>3</td>\n",
              "      <td>978302109</td>\n",
              "      <td>0</td>\n",
              "      <td>1</td>\n",
              "      <td>10</td>\n",
              "      <td>48067</td>\n",
              "      <td>James and the Giant Peach (1996)</td>\n",
              "      <td>Animation|Children's|Musical</td>\n",
              "      <td>5.0</td>\n",
              "      <td>5.0</td>\n",
              "      <td>18.0</td>\n",
              "      <td>20.0</td>\n",
              "      <td>14.0</td>\n",
              "      <td>2.0</td>\n",
              "      <td>0.0</td>\n",
              "      <td>21.0</td>\n",
              "      <td>3.0</td>\n",
              "      <td>0.0</td>\n",
              "      <td>0.0</td>\n",
              "      <td>14.0</td>\n",
              "      <td>0.0</td>\n",
              "      <td>6.0</td>\n",
              "      <td>3.0</td>\n",
              "      <td>3.0</td>\n",
              "      <td>2.0</td>\n",
              "      <td>0.0</td>\n",
              "      <td>0</td>\n",
              "      <td>1</td>\n",
              "    </tr>\n",
              "    <tr>\n",
              "      <th>2</th>\n",
              "      <td>1</td>\n",
              "      <td>914</td>\n",
              "      <td>3</td>\n",
              "      <td>978301968</td>\n",
              "      <td>0</td>\n",
              "      <td>1</td>\n",
              "      <td>10</td>\n",
              "      <td>48067</td>\n",
              "      <td>My Fair Lady (1964)</td>\n",
              "      <td>Musical|Romance</td>\n",
              "      <td>5.0</td>\n",
              "      <td>5.0</td>\n",
              "      <td>18.0</td>\n",
              "      <td>20.0</td>\n",
              "      <td>14.0</td>\n",
              "      <td>2.0</td>\n",
              "      <td>0.0</td>\n",
              "      <td>21.0</td>\n",
              "      <td>3.0</td>\n",
              "      <td>0.0</td>\n",
              "      <td>0.0</td>\n",
              "      <td>14.0</td>\n",
              "      <td>0.0</td>\n",
              "      <td>6.0</td>\n",
              "      <td>3.0</td>\n",
              "      <td>3.0</td>\n",
              "      <td>2.0</td>\n",
              "      <td>0.0</td>\n",
              "      <td>0</td>\n",
              "      <td>2</td>\n",
              "    </tr>\n",
              "    <tr>\n",
              "      <th>3</th>\n",
              "      <td>1</td>\n",
              "      <td>3408</td>\n",
              "      <td>4</td>\n",
              "      <td>978300275</td>\n",
              "      <td>0</td>\n",
              "      <td>1</td>\n",
              "      <td>10</td>\n",
              "      <td>48067</td>\n",
              "      <td>Erin Brockovich (2000)</td>\n",
              "      <td>Drama</td>\n",
              "      <td>5.0</td>\n",
              "      <td>5.0</td>\n",
              "      <td>18.0</td>\n",
              "      <td>20.0</td>\n",
              "      <td>14.0</td>\n",
              "      <td>2.0</td>\n",
              "      <td>0.0</td>\n",
              "      <td>21.0</td>\n",
              "      <td>3.0</td>\n",
              "      <td>0.0</td>\n",
              "      <td>0.0</td>\n",
              "      <td>14.0</td>\n",
              "      <td>0.0</td>\n",
              "      <td>6.0</td>\n",
              "      <td>3.0</td>\n",
              "      <td>3.0</td>\n",
              "      <td>2.0</td>\n",
              "      <td>0.0</td>\n",
              "      <td>0</td>\n",
              "      <td>3</td>\n",
              "    </tr>\n",
              "    <tr>\n",
              "      <th>4</th>\n",
              "      <td>1</td>\n",
              "      <td>2355</td>\n",
              "      <td>5</td>\n",
              "      <td>978824291</td>\n",
              "      <td>0</td>\n",
              "      <td>1</td>\n",
              "      <td>10</td>\n",
              "      <td>48067</td>\n",
              "      <td>Bug's Life, A (1998)</td>\n",
              "      <td>Animation|Children's|Comedy</td>\n",
              "      <td>5.0</td>\n",
              "      <td>5.0</td>\n",
              "      <td>18.0</td>\n",
              "      <td>20.0</td>\n",
              "      <td>14.0</td>\n",
              "      <td>2.0</td>\n",
              "      <td>0.0</td>\n",
              "      <td>21.0</td>\n",
              "      <td>3.0</td>\n",
              "      <td>0.0</td>\n",
              "      <td>0.0</td>\n",
              "      <td>14.0</td>\n",
              "      <td>0.0</td>\n",
              "      <td>6.0</td>\n",
              "      <td>3.0</td>\n",
              "      <td>3.0</td>\n",
              "      <td>2.0</td>\n",
              "      <td>0.0</td>\n",
              "      <td>0</td>\n",
              "      <td>4</td>\n",
              "    </tr>\n",
              "  </tbody>\n",
              "</table>\n",
              "</div>"
            ],
            "text/plain": [
              "   user_id  movie_id  rating  ...  Western user_id_mapped  movie_id_mapped\n",
              "0        1      1193       5  ...      0.0              0                0\n",
              "1        1       661       3  ...      0.0              0                1\n",
              "2        1       914       3  ...      0.0              0                2\n",
              "3        1      3408       4  ...      0.0              0                3\n",
              "4        1      2355       5  ...      0.0              0                4\n",
              "\n",
              "[5 rows x 30 columns]"
            ]
          },
          "metadata": {},
          "execution_count": 10
        }
      ]
    },
    {
      "cell_type": "code",
      "source": [
        "ratings.sort_values(by='timestamp', ascending=True, inplace=True)"
      ],
      "metadata": {
        "id": "KIj16ZhoXTCN"
      },
      "execution_count": 11,
      "outputs": []
    },
    {
      "cell_type": "code",
      "source": [
        "training_set, test_set = train_test_split(ratings, test_size=0.2, shuffle=False)\n",
        "training_set, validation_set = train_test_split(training_set, test_size=0.2, shuffle=False)\n",
        "print(training_set.shape)\n",
        "print(validation_set.shape)\n",
        "print(test_set.shape)"
      ],
      "metadata": {
        "colab": {
          "base_uri": "https://localhost:8080/"
        },
        "id": "ZLiqg7K4XUYt",
        "outputId": "cd81b95a-d58a-4787-d2f8-178dc02db3e7"
      },
      "execution_count": 12,
      "outputs": [
        {
          "output_type": "stream",
          "name": "stdout",
          "text": [
            "(640133, 30)\n",
            "(160034, 30)\n",
            "(200042, 30)\n"
          ]
        }
      ]
    },
    {
      "cell_type": "code",
      "source": [
        "n_users = len(ratings['user_id_mapped'].unique())\n",
        "n_movies = len(ratings['movie_id_mapped'].unique())"
      ],
      "metadata": {
        "id": "HG5gadw3Xecj"
      },
      "execution_count": 13,
      "outputs": []
    },
    {
      "cell_type": "code",
      "source": [
        "print('Num of users: ', n_users, '\\nNum of movies: ', n_movies)"
      ],
      "metadata": {
        "colab": {
          "base_uri": "https://localhost:8080/"
        },
        "id": "Ve1euVT3Xkbt",
        "outputId": "8d9afcfa-5f05-46c3-c97b-1221a8b715d4"
      },
      "execution_count": 14,
      "outputs": [
        {
          "output_type": "stream",
          "name": "stdout",
          "text": [
            "Num of users:  6040 \n",
            "Num of movies:  3706\n"
          ]
        }
      ]
    },
    {
      "cell_type": "code",
      "source": [
        "def convert(data, num_movies, add_features):\n",
        "    \n",
        "    for user_id in data['user_id_mapped'].unique():\n",
        "      filter_user = data['user_id_mapped'] == user_id\n",
        "      movie_ids = data.loc[:, 'movie_id_mapped'][filter_user]\n",
        "      user_ratings = data.loc[:, 'rating'][filter_user]\n",
        "      features = np.zeros(num_movies)\n",
        "      features[movie_ids] = user_ratings\n",
        "      for feauture in add_features:\n",
        "        feature_value = data.loc[:, feauture][filter_user].iloc[0]\n",
        "        features = np.append(features, feature_value)\n",
        "      yield features\n",
        "    "
      ],
      "metadata": {
        "id": "0q3yFQiSZjcd"
      },
      "execution_count": 15,
      "outputs": []
    },
    {
      "cell_type": "code",
      "source": [
        "'''\n",
        "\n",
        "Defining our Dataset for batch processing\n",
        "'''\n",
        "\n",
        "from torch.utils.data import DataLoader, IterableDataset\n",
        "class Dataset(IterableDataset):\n",
        "\n",
        "  def __init__(self, path):\n",
        "    self._path = path\n",
        "\n",
        "  def __iter__(self):\n",
        "    for line in open(self._path):\n",
        "      input = np.array(json.loads(line))\n",
        "      yield {'input':input, 'target':input}\n",
        "\n",
        "\n",
        "def generate_batches(dataset, batch_size, shuffle=False, drop_last=True, device='cpu'):\n",
        "  data_loader = DataLoader(dataset=dataset, batch_size=batch_size, shuffle=shuffle, drop_last=drop_last)\n",
        "  for data_dict in data_loader:\n",
        "    out_data_dict = {}\n",
        "    for name, tensor in data_dict.items():\n",
        "      out_data_dict[name] = data_dict[name].to(device)\n",
        "    yield out_data_dict\n",
        "\n"
      ],
      "metadata": {
        "id": "s_DWbhF6XmB7"
      },
      "execution_count": 40,
      "outputs": []
    },
    {
      "cell_type": "code",
      "source": [
        "''' \n",
        "Creating NN\n",
        "'''\n",
        "\n",
        "class Model(nn.Module):\n",
        "    def __init__(self, num_features):\n",
        "        super(Model, self).__init__()\n",
        "        self.fc1 = nn.Linear(num_features, 300)\n",
        "        self.fc2 = nn.Linear(300, 100)\n",
        "        self.fc22 = nn.Linear(100, 50)\n",
        "        self.fc23 = nn.Linear(50, 20)\n",
        "        self.fc24 = nn.Linear(20, 10)\n",
        "        self.fc3 = nn.Linear(10, 20)\n",
        "        self.fc31 = nn.Linear(20, 50)\n",
        "        self.fc32 = nn.Linear(50, 100)\n",
        "        self.fc33 = nn.Linear(100, 300)\n",
        "        self.fc4 = nn.Linear(300, num_features)\n",
        "        self.activation = nn.ReLU()\n",
        "        \n",
        "    def forward(self, x):\n",
        "        x = self.activation(self.fc1(x))\n",
        "        x = self.activation(self.fc2(x))\n",
        "        x = self.activation(self.fc22(x))\n",
        "        x = self.activation(self.fc23(x))\n",
        "        x = self.activation(self.fc24(x))\n",
        "        x = self.activation(self.fc3(x))\n",
        "        x = self.activation(self.fc31(x))\n",
        "        x = self.activation(self.fc32(x))\n",
        "        x = self.activation(self.fc33(x))\n",
        "        x = self.fc4(x)\n",
        "        return x"
      ],
      "metadata": {
        "id": "q0LVO9teX1LW"
      },
      "execution_count": 41,
      "outputs": []
    },
    {
      "cell_type": "code",
      "source": [
        ""
      ],
      "metadata": {
        "id": "qAcrsHovGooc"
      },
      "execution_count": null,
      "outputs": []
    },
    {
      "cell_type": "code",
      "source": [
        "''' \n",
        "Train model\n",
        "'''\n",
        "def trainModel(train_dataset, validation_dataset):\n",
        "  trainErrorVal=dict()\n",
        "  validationErrorVal=dict()\n",
        "  \n",
        "  for epoch in range(num_epochs):\n",
        "    batch_generator = generate_batches(train_dataset, batch_size=batch_size, device=device)\n",
        "    model.train()\n",
        "    running_loss = 0.0\n",
        "    for batch_index, batch_dict in enumerate(batch_generator):\n",
        "      optimizer.zero_grad()\n",
        "      output = model(batch_dict['input'].float())\n",
        "      output[batch_dict['target'] == 0] = 0\n",
        "      loss = criterion(output[:, :n_movies], batch_dict['target'].float()[:, :n_movies])\n",
        "      mse_loss = torch.divide(loss, torch.sum(batch_dict['target'] > 0).float())\n",
        "      running_loss += (mse_loss.item() - running_loss) / (batch_index + 1)\n",
        "      mse_loss.backward()\n",
        "      optimizer.step()\n",
        "\n",
        "      \n",
        "    print('epoch: '+str(epoch) + ' Train loss: ' + str(running_loss))\n",
        "    if epoch%2==0:\n",
        "      trainErrorVal[epoch]=running_loss\n",
        "\n",
        "\n",
        "    batch_generator = generate_batches(validation_dataset, batch_size=batch_size, device=device, drop_last=False)\n",
        "    model.eval()\n",
        "    running_loss = 0.0\n",
        "    for batch_index, batch_dict in enumerate(batch_generator):\n",
        "      output = model(batch_dict['input'].float())\n",
        "      output[batch_dict['target'] == 0] = 0\n",
        "      loss = criterion(output[:, :n_movies], batch_dict['target'].float()[:, :n_movies])\n",
        "      mse_loss = torch.divide(loss, torch.sum(batch_dict['target'] > 0).float())\n",
        "      running_loss += (mse_loss.item() - running_loss) / (batch_index + 1)\n",
        "    scheduler.step(running_loss)\n",
        "\n",
        "    print('epoch: '+str(epoch) + ' Validation loss: ' + str(running_loss))\n",
        "    if epoch%2==0:\n",
        "      validationErrorVal[epoch]=running_loss\n",
        "  \n",
        "  plt.plot(list(trainErrorVal.keys()), list(trainErrorVal.values()), 'g', label='Training loss')\n",
        "  plt.plot(list(validationErrorVal.keys()), list(validationErrorVal.values()), 'b', label='validation loss')\n",
        "  plt.autoscale(enable=True, axis='y')\n",
        "\n",
        "  plt.title('Training and Validation loss')\n",
        "  plt.xlabel('Epochs')\n",
        "  plt.ylabel('Loss')\n",
        "  plt.legend()\n",
        "  plt.show()\n",
        "  "
      ],
      "metadata": {
        "id": "TpUYeUBWYHFY"
      },
      "execution_count": 42,
      "outputs": []
    },
    {
      "cell_type": "code",
      "source": [
        "'''\n",
        "Test Model\n",
        "\n",
        "'''\n",
        "def TestModel(test_dataset):\n",
        "  criterion = nn.L1Loss(reduction='sum')\n",
        "  batch_generator = generate_batches(test_dataset, batch_size=batch_size, device=device, drop_last=False)\n",
        "  model.eval()\n",
        "  running_loss = 0.0\n",
        "  for batch_index, batch_dict in enumerate(batch_generator):\n",
        "    output = model(batch_dict['input'].float())\n",
        "    output[batch_dict['target'] == 0] = 0\n",
        "    loss = criterion(output[:, :n_movies], batch_dict['target'].float()[:, :n_movies])\n",
        "    mse_loss = torch.divide(loss, torch.sum(batch_dict['target'] > 0).float())\n",
        "    running_loss += (mse_loss.item() - running_loss) / (batch_index + 1)\n",
        "  print('Test loss: ' + str(running_loss))\n",
        "\n",
        "\n"
      ],
      "metadata": {
        "id": "_QMxvb5rYHHp"
      },
      "execution_count": 43,
      "outputs": []
    },
    {
      "cell_type": "code",
      "source": [
        "''' \n",
        "Run Model with just user and ratings\n",
        "'''\n",
        "number_of_features = n_movies\n",
        "with open('./training.jsonl', 'w') as file:\n",
        "  for data in  convert(training_set, n_movies, []):\n",
        "    file.write(json.dumps(list(data)) + '\\n')\n",
        "with open('./validation.jsonl', 'w') as file:\n",
        "  for data in  convert(validation_set, n_movies, []):\n",
        "    file.write(json.dumps(list(data)) + '\\n')\n",
        "with open('./test.jsonl', 'w') as file:\n",
        "  for data in  convert(test_set, n_movies, []):\n",
        "    file.write(json.dumps(list(data)) + '\\n')"
      ],
      "metadata": {
        "id": "EsFHeYzJZV0H"
      },
      "execution_count": 47,
      "outputs": []
    },
    {
      "cell_type": "code",
      "source": [
        "''' \n",
        "Run Model with just user and ratings and user attribubtes\n",
        "'''\n",
        "add_features = ['gender', 'age', 'occupation']\n",
        "number_of_features_user = n_movies + len(add_features)\n",
        "with open('./training_user.jsonl', 'w') as file:\n",
        "  for data in  convert(training_set, n_movies, add_features):\n",
        "    file.write(json.dumps(list(data)) + '\\n')\n",
        "with open('./validation_user.jsonl', 'w') as file:\n",
        "  for data in  convert(validation_set, n_movies, add_features):\n",
        "    file.write(json.dumps(list(data)) + '\\n')\n",
        "with open('./test_user.jsonl', 'w') as file:\n",
        "  for data in  convert(test_set, n_movies, add_features):\n",
        "    file.write(json.dumps(list(data)) + '\\n')"
      ],
      "metadata": {
        "id": "n3SqewDfvSju"
      },
      "execution_count": 48,
      "outputs": []
    },
    {
      "cell_type": "code",
      "source": [
        "''' \n",
        "Run Model with just user and ratings and genres\n",
        "'''\n",
        "add_features_genre = ['gender', 'age', 'occupation'] + list(vectorizer.get_feature_names_out())\n",
        "number_of_features_genre = n_movies + len(add_features_genre)\n",
        "with open('./training_user_genres.jsonl', 'w') as file:\n",
        "  for data in  convert(training_set, n_movies, add_features_genre):\n",
        "    file.write(json.dumps(list(data)) + '\\n')\n",
        "with open('./validation_user_genres.jsonl', 'w') as file:\n",
        "  for data in  convert(validation_set, n_movies, add_features_genre):\n",
        "    file.write(json.dumps(list(data)) + '\\n')\n",
        "with open('./test_user_genres.jsonl', 'w') as file:\n",
        "  for data in  convert(test_set, n_movies, add_features_genre):\n",
        "    file.write(json.dumps(list(data)) + '\\n')"
      ],
      "metadata": {
        "id": "r-ib2C1x9YFp"
      },
      "execution_count": 49,
      "outputs": []
    },
    {
      "cell_type": "code",
      "source": [
        "train_dataset = Dataset('./training.jsonl')\n",
        "validation_dataset = Dataset('./validation.jsonl')\n",
        "test_dataset = Dataset('./test.jsonl')\n",
        "number_of_features = n_movies"
      ],
      "metadata": {
        "id": "-C07nyOGuHAz"
      },
      "execution_count": 50,
      "outputs": []
    },
    {
      "cell_type": "code",
      "source": [
        "train_user_dataset = Dataset('./training_user.jsonl')\n",
        "validation_user_dataset = Dataset('./validation_user.jsonl')\n",
        "test_user_dataset = Dataset('./test_user.jsonl')\n",
        "number_of_features_user = n_movies + len(add_features)"
      ],
      "metadata": {
        "id": "yzbyiPKBvhgL"
      },
      "execution_count": 51,
      "outputs": []
    },
    {
      "cell_type": "code",
      "source": [
        "train_user_genre_dataset = Dataset('./training_user_genres.jsonl')\n",
        "validation_user_genre_dataset = Dataset('./validation_user_genres.jsonl')\n",
        "test_user_genre_dataset = Dataset('./test_user_genres.jsonl')\n",
        "number_of_features_user_genre = n_movies + len(add_features_genre)"
      ],
      "metadata": {
        "id": "JzWAyVTT9jCt"
      },
      "execution_count": 52,
      "outputs": []
    },
    {
      "cell_type": "code",
      "source": [
        "num_epochs = 75\n",
        "batch_size = 2048"
      ],
      "metadata": {
        "id": "lp0-yT3IwOax"
      },
      "execution_count": 53,
      "outputs": []
    },
    {
      "cell_type": "code",
      "source": [
        "''' \n",
        "Defining model parameters\n",
        "\n",
        "'''\n",
        "model = Model(number_of_features)\n",
        "model.to(device)\n",
        "#Create loss object\n",
        "criterion = nn.L1Loss(reduction='sum')\n",
        "#criterion = nn.MSELoss()\n",
        "\n",
        "#create optimizer object\n",
        "#parameters of all auto-encoders defined in the class\n",
        "optimizer = optim.Adam(model.parameters(), 0.01)\n",
        "scheduler = optim.lr_scheduler.ReduceLROnPlateau(optimizer=optimizer,\n",
        "                                                 mode='min', factor=0.5,\n",
        "                                                 patience=1)"
      ],
      "metadata": {
        "id": "ouhSSy52vySs"
      },
      "execution_count": 54,
      "outputs": []
    },
    {
      "cell_type": "code",
      "source": [
        "trainModel(train_dataset, validation_dataset)"
      ],
      "metadata": {
        "colab": {
          "base_uri": "https://localhost:8080/",
          "height": 1000
        },
        "id": "ngUdtXOpZV67",
        "outputId": "0da7ec5e-d792-45d5-a8c0-7ccc07dadffd"
      },
      "execution_count": 55,
      "outputs": [
        {
          "output_type": "stream",
          "name": "stdout",
          "text": [
            "epoch: 0 Train loss: 3.41107439994812\n",
            "epoch: 0 Validation loss: 10.887405395507812\n",
            "epoch: 1 Train loss: 7.70603084564209\n",
            "epoch: 1 Validation loss: 3.336851119995117\n",
            "epoch: 2 Train loss: 3.44175124168396\n",
            "epoch: 2 Validation loss: 3.3863797187805176\n",
            "epoch: 3 Train loss: 3.4479061365127563\n",
            "epoch: 3 Validation loss: 3.2498230934143066\n",
            "epoch: 4 Train loss: 3.223252296447754\n",
            "epoch: 4 Validation loss: 2.578293561935425\n",
            "epoch: 5 Train loss: 2.2409263849258423\n",
            "epoch: 5 Validation loss: 3.139085054397583\n",
            "epoch: 6 Train loss: 2.557756781578064\n",
            "epoch: 6 Validation loss: 1.936941385269165\n",
            "epoch: 7 Train loss: 2.0647969841957092\n",
            "epoch: 7 Validation loss: 2.124861240386963\n",
            "epoch: 8 Train loss: 2.025098979473114\n",
            "epoch: 8 Validation loss: 1.4446178674697876\n",
            "epoch: 9 Train loss: 1.3955734372138977\n",
            "epoch: 9 Validation loss: 1.565091848373413\n",
            "epoch: 10 Train loss: 1.3713080883026123\n",
            "epoch: 10 Validation loss: 1.0964809656143188\n",
            "epoch: 11 Train loss: 1.0892756581306458\n",
            "epoch: 11 Validation loss: 1.0415916442871094\n",
            "epoch: 12 Train loss: 0.9679907262325287\n",
            "epoch: 12 Validation loss: 0.9159592390060425\n",
            "epoch: 13 Train loss: 0.8913327157497406\n",
            "epoch: 13 Validation loss: 0.8651013970375061\n",
            "epoch: 14 Train loss: 0.8133718073368073\n",
            "epoch: 14 Validation loss: 0.7978826761245728\n",
            "epoch: 15 Train loss: 0.7815616130828857\n",
            "epoch: 15 Validation loss: 0.7962831854820251\n",
            "epoch: 16 Train loss: 0.7803534269332886\n",
            "epoch: 16 Validation loss: 0.810695230960846\n",
            "epoch: 17 Train loss: 0.7859742939472198\n",
            "epoch: 17 Validation loss: 0.8019121885299683\n",
            "epoch: 18 Train loss: 0.7775688469409943\n",
            "epoch: 18 Validation loss: 0.7932772040367126\n",
            "epoch: 19 Train loss: 0.7678070664405823\n",
            "epoch: 19 Validation loss: 0.7863644957542419\n",
            "epoch: 20 Train loss: 0.7617762684822083\n",
            "epoch: 20 Validation loss: 0.7822012901306152\n",
            "epoch: 21 Train loss: 0.7597127556800842\n",
            "epoch: 21 Validation loss: 0.7802693247795105\n",
            "epoch: 22 Train loss: 0.7579335868358612\n",
            "epoch: 22 Validation loss: 0.7788609862327576\n",
            "epoch: 23 Train loss: 0.7560526132583618\n",
            "epoch: 23 Validation loss: 0.7759519815444946\n",
            "epoch: 24 Train loss: 0.7532882988452911\n",
            "epoch: 24 Validation loss: 0.774116575717926\n",
            "epoch: 25 Train loss: 0.751001626253128\n",
            "epoch: 25 Validation loss: 0.7731362581253052\n",
            "epoch: 26 Train loss: 0.7493588030338287\n",
            "epoch: 26 Validation loss: 0.7708386182785034\n",
            "epoch: 27 Train loss: 0.747321754693985\n",
            "epoch: 27 Validation loss: 0.7698584198951721\n",
            "epoch: 28 Train loss: 0.7463736236095428\n",
            "epoch: 28 Validation loss: 0.7691808938980103\n",
            "epoch: 29 Train loss: 0.7454957067966461\n",
            "epoch: 29 Validation loss: 0.7681605815887451\n",
            "epoch: 30 Train loss: 0.7446472644805908\n",
            "epoch: 30 Validation loss: 0.7678679823875427\n",
            "epoch: 31 Train loss: 0.7443743646144867\n",
            "epoch: 31 Validation loss: 0.7674780488014221\n",
            "epoch: 32 Train loss: 0.7438431978225708\n",
            "epoch: 32 Validation loss: 0.766680121421814\n",
            "epoch: 33 Train loss: 0.7430971264839172\n",
            "epoch: 33 Validation loss: 0.7661166191101074\n",
            "epoch: 34 Train loss: 0.7426219880580902\n",
            "epoch: 34 Validation loss: 0.7661136388778687\n",
            "epoch: 35 Train loss: 0.7424305081367493\n",
            "epoch: 35 Validation loss: 0.765568196773529\n",
            "epoch: 36 Train loss: 0.7418559193611145\n",
            "epoch: 36 Validation loss: 0.7652662992477417\n",
            "epoch: 37 Train loss: 0.7414959073066711\n",
            "epoch: 37 Validation loss: 0.7649381756782532\n",
            "epoch: 38 Train loss: 0.7412907481193542\n",
            "epoch: 38 Validation loss: 0.7654139399528503\n",
            "epoch: 39 Train loss: 0.7414997220039368\n",
            "epoch: 39 Validation loss: 0.7649359107017517\n",
            "epoch: 40 Train loss: 0.7408043444156647\n",
            "epoch: 40 Validation loss: 0.7635170221328735\n",
            "epoch: 41 Train loss: 0.7397178709506989\n",
            "epoch: 41 Validation loss: 0.7633922100067139\n",
            "epoch: 42 Train loss: 0.739558070898056\n",
            "epoch: 42 Validation loss: 0.7630297541618347\n",
            "epoch: 43 Train loss: 0.7391913533210754\n",
            "epoch: 43 Validation loss: 0.762723982334137\n",
            "epoch: 44 Train loss: 0.7388707101345062\n",
            "epoch: 44 Validation loss: 0.762511134147644\n",
            "epoch: 45 Train loss: 0.7386824488639832\n",
            "epoch: 45 Validation loss: 0.7623125910758972\n",
            "epoch: 46 Train loss: 0.7384235262870789\n",
            "epoch: 46 Validation loss: 0.7621340751647949\n",
            "epoch: 47 Train loss: 0.7382858693599701\n",
            "epoch: 47 Validation loss: 0.7619448304176331\n",
            "epoch: 48 Train loss: 0.7381575703620911\n",
            "epoch: 48 Validation loss: 0.7618257999420166\n",
            "epoch: 49 Train loss: 0.7382234334945679\n",
            "epoch: 49 Validation loss: 0.7623926997184753\n",
            "epoch: 50 Train loss: 0.7386801242828369\n",
            "epoch: 50 Validation loss: 0.7621329426765442\n",
            "epoch: 51 Train loss: 0.7381729185581207\n",
            "epoch: 51 Validation loss: 0.7616443037986755\n",
            "epoch: 52 Train loss: 0.7377899587154388\n",
            "epoch: 52 Validation loss: 0.7614649534225464\n",
            "epoch: 53 Train loss: 0.7376604676246643\n",
            "epoch: 53 Validation loss: 0.7615487575531006\n",
            "epoch: 54 Train loss: 0.7376352250576019\n",
            "epoch: 54 Validation loss: 0.7613014578819275\n",
            "epoch: 55 Train loss: 0.7374256551265717\n",
            "epoch: 55 Validation loss: 0.7612326741218567\n",
            "epoch: 56 Train loss: 0.7373882532119751\n",
            "epoch: 56 Validation loss: 0.7611907124519348\n",
            "epoch: 57 Train loss: 0.7373359203338623\n",
            "epoch: 57 Validation loss: 0.7611660957336426\n",
            "epoch: 58 Train loss: 0.7372932732105255\n",
            "epoch: 58 Validation loss: 0.761049211025238\n",
            "epoch: 59 Train loss: 0.7372269034385681\n",
            "epoch: 59 Validation loss: 0.7610715627670288\n",
            "epoch: 60 Train loss: 0.7372894287109375\n",
            "epoch: 60 Validation loss: 0.761216938495636\n",
            "epoch: 61 Train loss: 0.7372382283210754\n",
            "epoch: 61 Validation loss: 0.760850191116333\n",
            "epoch: 62 Train loss: 0.7370820641517639\n",
            "epoch: 62 Validation loss: 0.7609712481498718\n",
            "epoch: 63 Train loss: 0.7370729446411133\n",
            "epoch: 63 Validation loss: 0.7607590556144714\n",
            "epoch: 64 Train loss: 0.7370065152645111\n",
            "epoch: 64 Validation loss: 0.7607291340827942\n",
            "epoch: 65 Train loss: 0.7369576990604401\n",
            "epoch: 65 Validation loss: 0.7606885433197021\n",
            "epoch: 66 Train loss: 0.7368902862071991\n",
            "epoch: 66 Validation loss: 0.7606284022331238\n",
            "epoch: 67 Train loss: 0.7368268668651581\n",
            "epoch: 67 Validation loss: 0.760570228099823\n",
            "epoch: 68 Train loss: 0.73680180311203\n",
            "epoch: 68 Validation loss: 0.7605717778205872\n",
            "epoch: 69 Train loss: 0.7367865443229675\n",
            "epoch: 69 Validation loss: 0.7605217099189758\n",
            "epoch: 70 Train loss: 0.7367550134658813\n",
            "epoch: 70 Validation loss: 0.7605007290840149\n",
            "epoch: 71 Train loss: 0.7367362678050995\n",
            "epoch: 71 Validation loss: 0.7604995369911194\n",
            "epoch: 72 Train loss: 0.7367320656776428\n",
            "epoch: 72 Validation loss: 0.760483980178833\n",
            "epoch: 73 Train loss: 0.7367226779460907\n",
            "epoch: 73 Validation loss: 0.7604684829711914\n",
            "epoch: 74 Train loss: 0.7367108166217804\n",
            "epoch: 74 Validation loss: 0.7604638934135437\n"
          ]
        },
        {
          "output_type": "display_data",
          "data": {
            "image/png": "[encoded data removed]",
            "text/plain": [
              "<Figure size 432x288 with 1 Axes>"
            ]
          },
          "metadata": {
            "needs_background": "light"
          }
        }
      ]
    },
    {
      "cell_type": "code",
      "source": [
        "TestModel(test_dataset)"
      ],
      "metadata": {
        "colab": {
          "base_uri": "https://localhost:8080/"
        },
        "id": "UGFtNL-bchlv",
        "outputId": "0788d4df-ef38-47b6-b904-ad11527cf68a"
      },
      "execution_count": 56,
      "outputs": [
        {
          "output_type": "stream",
          "name": "stdout",
          "text": [
            "Test loss: 0.7396325469017029\n"
          ]
        }
      ]
    },
    {
      "cell_type": "code",
      "source": [
        "''' \n",
        "Defining model parameters\n",
        "\n",
        "'''\n",
        "model = Model(number_of_features_user)\n",
        "model.to(device)\n",
        "#Create loss object\n",
        "criterion = nn.L1Loss(reduction='sum')\n",
        "#criterion = nn.MSELoss()\n",
        "\n",
        "#create optimizer object\n",
        "#parameters of all auto-encoders defined in the class\n",
        "optimizer = optim.Adam(model.parameters(), 0.01)\n",
        "scheduler = optim.lr_scheduler.ReduceLROnPlateau(optimizer=optimizer,\n",
        "                                                 mode='min', factor=0.5,\n",
        "                                                 patience=1)"
      ],
      "metadata": {
        "id": "xrGi8goIuzyP"
      },
      "execution_count": 57,
      "outputs": []
    },
    {
      "cell_type": "code",
      "source": [
        "num_epochs = 75\n",
        "batch_size = 2048"
      ],
      "metadata": {
        "id": "kv-p200nBce2"
      },
      "execution_count": 58,
      "outputs": []
    },
    {
      "cell_type": "code",
      "source": [
        "trainModel(train_user_dataset, validation_user_dataset)"
      ],
      "metadata": {
        "colab": {
          "base_uri": "https://localhost:8080/",
          "height": 1000
        },
        "id": "5A3pe3LQu5SD",
        "outputId": "69f8ddde-b45c-4741-a03f-7590670c8117"
      },
      "execution_count": 59,
      "outputs": [
        {
          "output_type": "stream",
          "name": "stdout",
          "text": [
            "epoch: 0 Train loss: 3.475197434425354\n",
            "epoch: 0 Validation loss: 2.0911684036254883\n",
            "epoch: 1 Train loss: 2.6021478176116943\n",
            "epoch: 1 Validation loss: 2.787436008453369\n",
            "epoch: 2 Train loss: 2.5703306198120117\n",
            "epoch: 2 Validation loss: 1.749685525894165\n",
            "epoch: 3 Train loss: 1.5436058044433594\n",
            "epoch: 3 Validation loss: 1.1781388521194458\n",
            "epoch: 4 Train loss: 1.0641960203647614\n",
            "epoch: 4 Validation loss: 0.8914732933044434\n",
            "epoch: 5 Train loss: 0.8162816166877747\n",
            "epoch: 5 Validation loss: 0.812520444393158\n",
            "epoch: 6 Train loss: 0.8115913271903992\n",
            "epoch: 6 Validation loss: 0.840789794921875\n",
            "epoch: 7 Train loss: 0.8139676451683044\n",
            "epoch: 7 Validation loss: 0.8115130662918091\n",
            "epoch: 8 Train loss: 0.7890333533287048\n",
            "epoch: 8 Validation loss: 0.801377534866333\n",
            "epoch: 9 Train loss: 0.7786724865436554\n",
            "epoch: 9 Validation loss: 0.7930619120597839\n",
            "epoch: 10 Train loss: 0.7758815288543701\n",
            "epoch: 10 Validation loss: 0.7912553548812866\n",
            "epoch: 11 Train loss: 0.7718517184257507\n",
            "epoch: 11 Validation loss: 0.7849401831626892\n",
            "epoch: 12 Train loss: 0.7659937143325806\n",
            "epoch: 12 Validation loss: 0.7814284563064575\n",
            "epoch: 13 Train loss: 0.7616356611251831\n",
            "epoch: 13 Validation loss: 0.7759599089622498\n",
            "epoch: 14 Train loss: 0.7572310566902161\n",
            "epoch: 14 Validation loss: 0.773630678653717\n",
            "epoch: 15 Train loss: 0.7545759677886963\n",
            "epoch: 15 Validation loss: 0.7712177634239197\n",
            "epoch: 16 Train loss: 0.7516120672225952\n",
            "epoch: 16 Validation loss: 0.766567051410675\n",
            "epoch: 17 Train loss: 0.7487053275108337\n",
            "epoch: 17 Validation loss: 0.7669914364814758\n",
            "epoch: 18 Train loss: 0.7496417462825775\n",
            "epoch: 18 Validation loss: 0.7653173804283142\n",
            "epoch: 19 Train loss: 0.7458312809467316\n",
            "epoch: 19 Validation loss: 0.7643886804580688\n",
            "epoch: 20 Train loss: 0.7440511882305145\n",
            "epoch: 20 Validation loss: 0.7638973593711853\n",
            "epoch: 21 Train loss: 0.7435958385467529\n",
            "epoch: 21 Validation loss: 0.7669112086296082\n",
            "epoch: 22 Train loss: 0.7422804832458496\n",
            "epoch: 22 Validation loss: 0.7607178688049316\n",
            "epoch: 23 Train loss: 0.7385260760784149\n",
            "epoch: 23 Validation loss: 0.7676845192909241\n",
            "epoch: 24 Train loss: 0.7476230263710022\n",
            "epoch: 24 Validation loss: 0.7616870999336243\n",
            "epoch: 25 Train loss: 0.7374472320079803\n",
            "epoch: 25 Validation loss: 0.7594155669212341\n",
            "epoch: 26 Train loss: 0.7333739101886749\n",
            "epoch: 26 Validation loss: 0.7581015229225159\n",
            "epoch: 27 Train loss: 0.7308546900749207\n",
            "epoch: 27 Validation loss: 0.7584142684936523\n",
            "epoch: 28 Train loss: 0.7304022908210754\n",
            "epoch: 28 Validation loss: 0.7569471001625061\n",
            "epoch: 29 Train loss: 0.7275771498680115\n",
            "epoch: 29 Validation loss: 0.7553676962852478\n",
            "epoch: 30 Train loss: 0.7260273396968842\n",
            "epoch: 30 Validation loss: 0.7558259963989258\n",
            "epoch: 31 Train loss: 0.725244402885437\n",
            "epoch: 31 Validation loss: 0.7566526532173157\n",
            "epoch: 32 Train loss: 0.723606288433075\n",
            "epoch: 32 Validation loss: 0.756311297416687\n",
            "epoch: 33 Train loss: 0.7223329246044159\n",
            "epoch: 33 Validation loss: 0.7561318278312683\n",
            "epoch: 34 Train loss: 0.7214174270629883\n",
            "epoch: 34 Validation loss: 0.7555141448974609\n",
            "epoch: 35 Train loss: 0.720596969127655\n",
            "epoch: 35 Validation loss: 0.7556926012039185\n",
            "epoch: 36 Train loss: 0.7201581597328186\n",
            "epoch: 36 Validation loss: 0.7552677392959595\n",
            "epoch: 37 Train loss: 0.7197255194187164\n",
            "epoch: 37 Validation loss: 0.7554055452346802\n",
            "epoch: 38 Train loss: 0.719515323638916\n",
            "epoch: 38 Validation loss: 0.7552728056907654\n",
            "epoch: 39 Train loss: 0.719058632850647\n",
            "epoch: 39 Validation loss: 0.7553805708885193\n",
            "epoch: 40 Train loss: 0.7189273238182068\n",
            "epoch: 40 Validation loss: 0.7555230259895325\n",
            "epoch: 41 Train loss: 0.7187861204147339\n",
            "epoch: 41 Validation loss: 0.7555229663848877\n",
            "epoch: 42 Train loss: 0.7186641097068787\n",
            "epoch: 42 Validation loss: 0.7555045485496521\n",
            "epoch: 43 Train loss: 0.7185650169849396\n",
            "epoch: 43 Validation loss: 0.755508542060852\n",
            "epoch: 44 Train loss: 0.7185209095478058\n",
            "epoch: 44 Validation loss: 0.7555241584777832\n",
            "epoch: 45 Train loss: 0.718482106924057\n",
            "epoch: 45 Validation loss: 0.7555338144302368\n",
            "epoch: 46 Train loss: 0.7184580862522125\n",
            "epoch: 46 Validation loss: 0.755544126033783\n",
            "epoch: 47 Train loss: 0.7184345722198486\n",
            "epoch: 47 Validation loss: 0.7555496096611023\n",
            "epoch: 48 Train loss: 0.7184204459190369\n",
            "epoch: 48 Validation loss: 0.7555555701255798\n",
            "epoch: 49 Train loss: 0.7184076905250549\n",
            "epoch: 49 Validation loss: 0.7555587291717529\n",
            "epoch: 50 Train loss: 0.7184004783630371\n",
            "epoch: 50 Validation loss: 0.7555623650550842\n",
            "epoch: 51 Train loss: 0.7183941006660461\n",
            "epoch: 51 Validation loss: 0.7555641531944275\n",
            "epoch: 52 Train loss: 0.7183904945850372\n",
            "epoch: 52 Validation loss: 0.7555660009384155\n",
            "epoch: 53 Train loss: 0.7183873057365417\n",
            "epoch: 53 Validation loss: 0.7555669546127319\n",
            "epoch: 54 Train loss: 0.7183855473995209\n",
            "epoch: 54 Validation loss: 0.7555678486824036\n",
            "epoch: 55 Train loss: 0.7183839380741119\n",
            "epoch: 55 Validation loss: 0.7555683255195618\n",
            "epoch: 56 Train loss: 0.7183830738067627\n",
            "epoch: 56 Validation loss: 0.7555686831474304\n",
            "epoch: 57 Train loss: 0.7183822691440582\n",
            "epoch: 57 Validation loss: 0.7555688619613647\n",
            "epoch: 58 Train loss: 0.7183817923069\n",
            "epoch: 58 Validation loss: 0.7555691003799438\n",
            "epoch: 59 Train loss: 0.7183814346790314\n",
            "epoch: 59 Validation loss: 0.7555692195892334\n",
            "epoch: 60 Train loss: 0.7183811962604523\n",
            "epoch: 60 Validation loss: 0.755569338798523\n",
            "epoch: 61 Train loss: 0.7183809876441956\n",
            "epoch: 61 Validation loss: 0.755569338798523\n",
            "epoch: 62 Train loss: 0.7183808982372284\n",
            "epoch: 62 Validation loss: 0.7555694580078125\n",
            "epoch: 63 Train loss: 0.7183807492256165\n",
            "epoch: 63 Validation loss: 0.7555694580078125\n",
            "epoch: 64 Train loss: 0.7183807194232941\n",
            "epoch: 64 Validation loss: 0.7555694580078125\n",
            "epoch: 65 Train loss: 0.7183806896209717\n",
            "epoch: 65 Validation loss: 0.7555694580078125\n",
            "epoch: 66 Train loss: 0.7183806896209717\n",
            "epoch: 66 Validation loss: 0.755569577217102\n",
            "epoch: 67 Train loss: 0.7183806300163269\n",
            "epoch: 67 Validation loss: 0.7555695176124573\n",
            "epoch: 68 Train loss: 0.7183806300163269\n",
            "epoch: 68 Validation loss: 0.7555695176124573\n",
            "epoch: 69 Train loss: 0.7183806300163269\n",
            "epoch: 69 Validation loss: 0.7555695176124573\n",
            "epoch: 70 Train loss: 0.7183806002140045\n",
            "epoch: 70 Validation loss: 0.7555695176124573\n",
            "epoch: 71 Train loss: 0.7183805704116821\n",
            "epoch: 71 Validation loss: 0.7555695176124573\n",
            "epoch: 72 Train loss: 0.7183805704116821\n",
            "epoch: 72 Validation loss: 0.755569577217102\n",
            "epoch: 73 Train loss: 0.7183805704116821\n",
            "epoch: 73 Validation loss: 0.755569577217102\n",
            "epoch: 74 Train loss: 0.7183805704116821\n",
            "epoch: 74 Validation loss: 0.755569577217102\n"
          ]
        },
        {
          "output_type": "display_data",
          "data": {
            "image/png": "[encoded data removed]",
            "text/plain": [
              "<Figure size 432x288 with 1 Axes>"
            ]
          },
          "metadata": {
            "needs_background": "light"
          }
        }
      ]
    },
    {
      "cell_type": "code",
      "source": [
        "TestModel(test_user_dataset)"
      ],
      "metadata": {
        "id": "4XcViAPMcyLb",
        "colab": {
          "base_uri": "https://localhost:8080/"
        },
        "outputId": "2160c565-24d0-4422-9d6f-8f883a377c35"
      },
      "execution_count": 60,
      "outputs": [
        {
          "output_type": "stream",
          "name": "stdout",
          "text": [
            "Test loss: 0.7355971336364746\n"
          ]
        }
      ]
    },
    {
      "cell_type": "code",
      "source": [
        "''' \n",
        "Defining model parameters\n",
        "\n",
        "'''\n",
        "model = Model(number_of_features_user_genre)\n",
        "model.to(device)\n",
        "#Create loss object\n",
        "criterion = nn.L1Loss(reduction='sum')\n",
        "#criterion = nn.MSELoss()\n",
        "\n",
        "#create optimizer object\n",
        "#parameters of all auto-encoders defined in the class\n",
        "optimizer = optim.Adam(model.parameters(), 0.01)\n",
        "scheduler = optim.lr_scheduler.ReduceLROnPlateau(optimizer=optimizer,\n",
        "                                                 mode='min', factor=0.5,\n",
        "                                                 patience=1)"
      ],
      "metadata": {
        "id": "qMpUSJy5-zTs"
      },
      "execution_count": 61,
      "outputs": []
    },
    {
      "cell_type": "code",
      "source": [
        "trainModel(train_user_genre_dataset, validation_user_genre_dataset)"
      ],
      "metadata": {
        "colab": {
          "base_uri": "https://localhost:8080/",
          "height": 1000
        },
        "id": "oRiGnXB_-5ML",
        "outputId": "30c7dc56-2a26-4d62-ba12-95d1307fb9a7"
      },
      "execution_count": 62,
      "outputs": [
        {
          "output_type": "stream",
          "name": "stdout",
          "text": [
            "epoch: 0 Train loss: 3.1188849210739136\n",
            "epoch: 0 Validation loss: 2.3990583419799805\n",
            "epoch: 1 Train loss: 2.5478153228759766\n",
            "epoch: 1 Validation loss: 2.5172574520111084\n",
            "epoch: 2 Train loss: 2.515008330345154\n",
            "epoch: 2 Validation loss: 1.49568772315979\n",
            "epoch: 3 Train loss: 2.624911904335022\n",
            "epoch: 3 Validation loss: 1.3034496307373047\n",
            "epoch: 4 Train loss: 1.5277161002159119\n",
            "epoch: 4 Validation loss: 1.8232421875\n",
            "epoch: 5 Train loss: 1.9112024903297424\n",
            "epoch: 5 Validation loss: 1.602855920791626\n",
            "epoch: 6 Train loss: 1.612456202507019\n",
            "epoch: 6 Validation loss: 1.2367005348205566\n",
            "epoch: 7 Train loss: 1.162724494934082\n",
            "epoch: 7 Validation loss: 0.8618783354759216\n",
            "epoch: 8 Train loss: 0.9075939357280731\n",
            "epoch: 8 Validation loss: 1.0723847150802612\n",
            "epoch: 9 Train loss: 1.0226725041866302\n",
            "epoch: 9 Validation loss: 0.8189266324043274\n",
            "epoch: 10 Train loss: 0.7680575549602509\n",
            "epoch: 10 Validation loss: 0.7029475569725037\n",
            "epoch: 11 Train loss: 0.717013955116272\n",
            "epoch: 11 Validation loss: 0.7300897240638733\n",
            "epoch: 12 Train loss: 0.7386921644210815\n",
            "epoch: 12 Validation loss: 0.7160449028015137\n",
            "epoch: 13 Train loss: 0.7171280086040497\n",
            "epoch: 13 Validation loss: 0.7107452750205994\n",
            "epoch: 14 Train loss: 0.7098338901996613\n",
            "epoch: 14 Validation loss: 0.7169488668441772\n",
            "epoch: 15 Train loss: 0.7116599977016449\n",
            "epoch: 15 Validation loss: 0.7133823037147522\n",
            "epoch: 16 Train loss: 0.7050650715827942\n",
            "epoch: 16 Validation loss: 0.6995535492897034\n",
            "epoch: 17 Train loss: 0.6919382512569427\n",
            "epoch: 17 Validation loss: 0.6883566975593567\n",
            "epoch: 18 Train loss: 0.6851255893707275\n",
            "epoch: 18 Validation loss: 0.6857061982154846\n",
            "epoch: 19 Train loss: 0.6845704913139343\n",
            "epoch: 19 Validation loss: 0.6836503744125366\n",
            "epoch: 20 Train loss: 0.6820212006568909\n",
            "epoch: 20 Validation loss: 0.6802707314491272\n",
            "epoch: 21 Train loss: 0.6782892346382141\n",
            "epoch: 21 Validation loss: 0.6788496375083923\n",
            "epoch: 22 Train loss: 0.6763615608215332\n",
            "epoch: 22 Validation loss: 0.6772814393043518\n",
            "epoch: 23 Train loss: 0.6741004586219788\n",
            "epoch: 23 Validation loss: 0.6740047931671143\n",
            "epoch: 24 Train loss: 0.6710976958274841\n",
            "epoch: 24 Validation loss: 0.6716328263282776\n",
            "epoch: 25 Train loss: 0.6692737638950348\n",
            "epoch: 25 Validation loss: 0.6702613234519958\n",
            "epoch: 26 Train loss: 0.6674100160598755\n",
            "epoch: 26 Validation loss: 0.6698023080825806\n",
            "epoch: 27 Train loss: 0.6663630604743958\n",
            "epoch: 27 Validation loss: 0.6685944199562073\n",
            "epoch: 28 Train loss: 0.6647119224071503\n",
            "epoch: 28 Validation loss: 0.6668413877487183\n",
            "epoch: 29 Train loss: 0.6635164618492126\n",
            "epoch: 29 Validation loss: 0.6663623452186584\n",
            "epoch: 30 Train loss: 0.6630265414714813\n",
            "epoch: 30 Validation loss: 0.6662499308586121\n",
            "epoch: 31 Train loss: 0.6624316275119781\n",
            "epoch: 31 Validation loss: 0.6649540066719055\n",
            "epoch: 32 Train loss: 0.6615491807460785\n",
            "epoch: 32 Validation loss: 0.664540708065033\n",
            "epoch: 33 Train loss: 0.6609795689582825\n",
            "epoch: 33 Validation loss: 0.6641333699226379\n",
            "epoch: 34 Train loss: 0.6604155004024506\n",
            "epoch: 34 Validation loss: 0.6634222865104675\n",
            "epoch: 35 Train loss: 0.6599425971508026\n",
            "epoch: 35 Validation loss: 0.6631194353103638\n",
            "epoch: 36 Train loss: 0.6595433056354523\n",
            "epoch: 36 Validation loss: 0.6626710295677185\n",
            "epoch: 37 Train loss: 0.6592074930667877\n",
            "epoch: 37 Validation loss: 0.6624789237976074\n",
            "epoch: 38 Train loss: 0.6588211059570312\n",
            "epoch: 38 Validation loss: 0.6622035503387451\n",
            "epoch: 39 Train loss: 0.6585563719272614\n",
            "epoch: 39 Validation loss: 0.6618544459342957\n",
            "epoch: 40 Train loss: 0.6582184731960297\n",
            "epoch: 40 Validation loss: 0.6617261171340942\n",
            "epoch: 41 Train loss: 0.6580665707588196\n",
            "epoch: 41 Validation loss: 0.6616029143333435\n",
            "epoch: 42 Train loss: 0.6578912138938904\n",
            "epoch: 42 Validation loss: 0.6614336967468262\n",
            "epoch: 43 Train loss: 0.6576870381832123\n",
            "epoch: 43 Validation loss: 0.6612350940704346\n",
            "epoch: 44 Train loss: 0.657564789056778\n",
            "epoch: 44 Validation loss: 0.6610843539237976\n",
            "epoch: 45 Train loss: 0.6574197113513947\n",
            "epoch: 45 Validation loss: 0.6610543727874756\n",
            "epoch: 46 Train loss: 0.6573874652385712\n",
            "epoch: 46 Validation loss: 0.6610400080680847\n",
            "epoch: 47 Train loss: 0.6572259366512299\n",
            "epoch: 47 Validation loss: 0.6605722308158875\n",
            "epoch: 48 Train loss: 0.6569250822067261\n",
            "epoch: 48 Validation loss: 0.6605201363563538\n",
            "epoch: 49 Train loss: 0.6568430364131927\n",
            "epoch: 49 Validation loss: 0.6603878140449524\n",
            "epoch: 50 Train loss: 0.6567288637161255\n",
            "epoch: 50 Validation loss: 0.660325288772583\n",
            "epoch: 51 Train loss: 0.6566500067710876\n",
            "epoch: 51 Validation loss: 0.6602811813354492\n",
            "epoch: 52 Train loss: 0.6565757691860199\n",
            "epoch: 52 Validation loss: 0.6602122187614441\n",
            "epoch: 53 Train loss: 0.656508207321167\n",
            "epoch: 53 Validation loss: 0.6601008176803589\n",
            "epoch: 54 Train loss: 0.6564485728740692\n",
            "epoch: 54 Validation loss: 0.6600527167320251\n",
            "epoch: 55 Train loss: 0.6563885807991028\n",
            "epoch: 55 Validation loss: 0.6600489020347595\n",
            "epoch: 56 Train loss: 0.6563378870487213\n",
            "epoch: 56 Validation loss: 0.6599114537239075\n",
            "epoch: 57 Train loss: 0.6562396585941315\n",
            "epoch: 57 Validation loss: 0.659918487071991\n",
            "epoch: 58 Train loss: 0.6562207043170929\n",
            "epoch: 58 Validation loss: 0.6598645448684692\n",
            "epoch: 59 Train loss: 0.656166136264801\n",
            "epoch: 59 Validation loss: 0.6598216891288757\n",
            "epoch: 60 Train loss: 0.6561203300952911\n",
            "epoch: 60 Validation loss: 0.6597880721092224\n",
            "epoch: 61 Train loss: 0.6561071574687958\n",
            "epoch: 61 Validation loss: 0.6597809195518494\n",
            "epoch: 62 Train loss: 0.6560927331447601\n",
            "epoch: 62 Validation loss: 0.6597620844841003\n",
            "epoch: 63 Train loss: 0.6560688316822052\n",
            "epoch: 63 Validation loss: 0.6597439050674438\n",
            "epoch: 64 Train loss: 0.6560562252998352\n",
            "epoch: 64 Validation loss: 0.6597403883934021\n",
            "epoch: 65 Train loss: 0.6560535728931427\n",
            "epoch: 65 Validation loss: 0.6597345471382141\n",
            "epoch: 66 Train loss: 0.6560457050800323\n",
            "epoch: 66 Validation loss: 0.6597253084182739\n",
            "epoch: 67 Train loss: 0.6560370326042175\n",
            "epoch: 67 Validation loss: 0.6597149968147278\n",
            "epoch: 68 Train loss: 0.6560298204421997\n",
            "epoch: 68 Validation loss: 0.6597112417221069\n",
            "epoch: 69 Train loss: 0.6560268998146057\n",
            "epoch: 69 Validation loss: 0.6597084403038025\n",
            "epoch: 70 Train loss: 0.6560243666172028\n",
            "epoch: 70 Validation loss: 0.6597073078155518\n",
            "epoch: 71 Train loss: 0.6560230553150177\n",
            "epoch: 71 Validation loss: 0.6597061157226562\n",
            "epoch: 72 Train loss: 0.6560217142105103\n",
            "epoch: 72 Validation loss: 0.6597055196762085\n",
            "epoch: 73 Train loss: 0.6560209393501282\n",
            "epoch: 73 Validation loss: 0.6597049236297607\n",
            "epoch: 74 Train loss: 0.6560202836990356\n",
            "epoch: 74 Validation loss: 0.6597045660018921\n"
          ]
        },
        {
          "output_type": "display_data",
          "data": {
            "image/png": "[encoded data removed]",
            "text/plain": [
              "<Figure size 432x288 with 1 Axes>"
            ]
          },
          "metadata": {
            "needs_background": "light"
          }
        }
      ]
    },
    {
      "cell_type": "code",
      "source": [
        "TestModel(test_user_genre_dataset)"
      ],
      "metadata": {
        "colab": {
          "base_uri": "https://localhost:8080/"
        },
        "id": "k16xiufk-_1D",
        "outputId": "a288487b-1e6b-48bd-c0cc-05aba1b32039"
      },
      "execution_count": 63,
      "outputs": [
        {
          "output_type": "stream",
          "name": "stdout",
          "text": [
            "Test loss: 0.6327607035636902\n"
          ]
        }
      ]
    },
    {
      "cell_type": "code",
      "source": [
        ""
      ],
      "metadata": {
        "id": "IFQ5VgL2D3GE"
      },
      "execution_count": null,
      "outputs": []
    }
  ]
}