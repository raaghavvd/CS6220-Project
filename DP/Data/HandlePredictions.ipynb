{
 "cells": [
  {
   "cell_type": "code",
   "execution_count": 1,
   "metadata": {
    "scrolled": false
   },
   "outputs": [],
   "source": [
    "from PREDICTIONS import PREDICTIONS"
   ]
  },
  {
   "cell_type": "code",
   "execution_count": 2,
   "metadata": {},
   "outputs": [],
   "source": [
    "import pandas as pd"
   ]
  },
  {
   "cell_type": "code",
   "execution_count": 3,
   "metadata": {},
   "outputs": [],
   "source": [
    "TRAIN_DF = pd.read_csv(\"ml-1m2.train.csv\")\n",
    "TEST_DF = pd.read_csv(\"ml-1m2.test.csv\")\n",
    "RATINGS = TEST_DF[\"Rating\"].tolist()\n",
    "MOVIE_IDS = TEST_DF[\"MovieID\"].tolist()\n",
    "RATING_SET = [1, 2, 3, 4, 5]\n",
    "movids = TEST_DF[\"MovieID\"].unique().tolist()\n",
    "\n",
    "MEANS = {}\n",
    "for mid in movids:\n",
    "    MEANS[mid] = TRAIN_DF[TRAIN_DF[\"MovieID\"] == mid][\"Rating\"].mean()"
   ]
  },
  {
   "cell_type": "code",
   "execution_count": 4,
   "metadata": {},
   "outputs": [],
   "source": [
    "def Round(n, threshold=0.485):\n",
    "    if n < 1:\n",
    "        return 1\n",
    "    if n > 5:\n",
    "        return 5;\n",
    "\n",
    "    for item in RATING_SET:\n",
    "        if abs(n - item) < threshold:\n",
    "            return item\n",
    "    return n\n"
   ]
  },
  {
   "cell_type": "code",
   "execution_count": 5,
   "metadata": {},
   "outputs": [],
   "source": [
    "def Classify(n):\n",
    "    return 1 if n >= 4 else 0"
   ]
  },
  {
   "cell_type": "code",
   "execution_count": 6,
   "metadata": {},
   "outputs": [],
   "source": [
    "mae = 0\n",
    "cntr = 0\n",
    "tp = 0\n",
    "fp = 0\n",
    "fn = 0"
   ]
  },
  {
   "cell_type": "code",
   "execution_count": 7,
   "metadata": {},
   "outputs": [],
   "source": [
    "for batch in PREDICTIONS:\n",
    "    start = batch[0]\n",
    "    end = batch[1]\n",
    "    preds = batch[2]\n",
    "    #print(start, end)\n",
    "    actuals = RATINGS[start: end]\n",
    "    #print(start, end, len(preds), len(actuals))\n",
    "    for i in range(0, len(preds)):\n",
    "        #print(i)\n",
    "        pred = preds[i]\n",
    "        act = actuals[i]\n",
    "        \n",
    "        if pd.isna(pred):\n",
    "            continue\n",
    "            \n",
    "        cntr += 1\n",
    "        pred = Round(pred)\n",
    "        mae += abs(pred - act)\n",
    "        \n",
    "        pred = Classify(pred)\n",
    "        true = Classify(act)\n",
    "        \n",
    "        if pred == 1 and true == 1:\n",
    "            tp += 1\n",
    "        if pred == 1 and true == 0:\n",
    "            fp += 1\n",
    "        if pred == 0 and true == 1:\n",
    "            fn += 1\n",
    "        "
   ]
  },
  {
   "cell_type": "code",
   "execution_count": 8,
   "metadata": {},
   "outputs": [],
   "source": [
    "mae /= cntr\n",
    "precision = tp / (tp + fp)\n",
    "recall = tp / (tp + fn)"
   ]
  },
  {
   "cell_type": "code",
   "execution_count": 9,
   "metadata": {},
   "outputs": [
    {
     "name": "stdout",
     "output_type": "stream",
     "text": [
      "0.7345393295468984 0.7034700007802138 0.7677594465141032\n"
     ]
    }
   ],
   "source": [
    "print(mae, precision, recall)"
   ]
  },
  {
   "cell_type": "code",
   "execution_count": 10,
   "metadata": {},
   "outputs": [
    {
     "name": "stdout",
     "output_type": "stream",
     "text": [
      "166024\n"
     ]
    }
   ],
   "source": [
    "print(cntr)"
   ]
  },
  {
   "cell_type": "code",
   "execution_count": 11,
   "metadata": {},
   "outputs": [],
   "source": [
    "mae = 0\n",
    "cntr = 0\n",
    "tp = 0\n",
    "fp = 0\n",
    "fn = 0\n",
    "for batch in PREDICTIONS:\n",
    "    start = batch[0]\n",
    "    end = batch[1]\n",
    "    preds = batch[2]\n",
    "    #print(start, end)\n",
    "    actuals = RATINGS[start: end]\n",
    "    mids = MOVIE_IDS[start: end]\n",
    "    #print(start, end, len(preds), len(actuals))\n",
    "    for i in range(0, len(preds)):\n",
    "        #print(i)\n",
    "        pred = preds[i]\n",
    "        act = actuals[i]\n",
    "        \n",
    "        if pd.isna(pred):\n",
    "            continue\n",
    "            \n",
    "        if pred == MEANS[mids[i]]:\n",
    "            continue\n",
    "            \n",
    "        cntr += 1\n",
    "        pred = Round(pred)\n",
    "        mae += abs(pred - act)\n",
    "        \n",
    "        pred = Classify(pred)\n",
    "        true = Classify(act)\n",
    "        \n",
    "        if pred == 1 and true == 1:\n",
    "            tp += 1\n",
    "        if pred == 1 and true == 0:\n",
    "            fp += 1\n",
    "        if pred == 0 and true == 1:\n",
    "            fn += 1"
   ]
  },
  {
   "cell_type": "code",
   "execution_count": 12,
   "metadata": {},
   "outputs": [
    {
     "name": "stdout",
     "output_type": "stream",
     "text": [
      "0.7104624547745846 0.6826636984395402 0.788878719667549\n"
     ]
    }
   ],
   "source": [
    "mae /= cntr\n",
    "precision = tp / (tp + fp)\n",
    "recall = tp / (tp + fn)\n",
    "print(mae, precision, recall)"
   ]
  },
  {
   "cell_type": "code",
   "execution_count": null,
   "metadata": {},
   "outputs": [],
   "source": []
  }
 ],
 "metadata": {
  "kernelspec": {
   "display_name": "Python 3",
   "language": "python",
   "name": "python3"
  },
  "language_info": {
   "codemirror_mode": {
    "name": "ipython",
    "version": 3
   },
   "file_extension": ".py",
   "mimetype": "text/x-python",
   "name": "python",
   "nbconvert_exporter": "python",
   "pygments_lexer": "ipython3",
   "version": "3.8.3"
  }
 },
 "nbformat": 4,
 "nbformat_minor": 4
}
